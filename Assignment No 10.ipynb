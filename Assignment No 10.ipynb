{
 "cells": [
  {
   "cell_type": "markdown",
   "id": "dfcf1186",
   "metadata": {},
   "source": [
    ">__1. How do you distinguish between shutil.copy() and shutil.copytree()?__"
   ]
  },
  {
   "cell_type": "markdown",
   "id": "547a86cf",
   "metadata": {},
   "source": [
    "Ans.  While shutil.copy() will copy a single file, shutil.copytree() will copy an entire folder and every folder and file contained in it."
   ]
  },
  {
   "cell_type": "markdown",
   "id": "581d3db5",
   "metadata": {},
   "source": [
    ">__2. What function is used to rename files?__"
   ]
  },
  {
   "cell_type": "markdown",
   "id": "3c71f0b9",
   "metadata": {},
   "source": [
    "Ans.  os.rename() method in Python is used to rename a file or directory."
   ]
  },
  {
   "cell_type": "markdown",
   "id": "7ae609c4",
   "metadata": {},
   "source": [
    ">__3. What is the difference between the delete functions in the send2trash and shutil modules?__"
   ]
  },
  {
   "cell_type": "markdown",
   "id": "5a064631",
   "metadata": {},
   "source": [
    "Ans.  The send2trash functions will move a file or folder to the recycle bin, while shutil functions will permanently delete files and folders"
   ]
  },
  {
   "cell_type": "markdown",
   "id": "26b5865c",
   "metadata": {},
   "source": [
    ">__4.ZipFile objects have a close() method just like File objects’ close() method. What ZipFile method is equivalent to File objects’ open() method?__"
   ]
  },
  {
   "cell_type": "markdown",
   "id": "5ae67ae3",
   "metadata": {},
   "source": [
    "Ans.  \n",
    "unzipped_file = zipfile.ZipFile(\"sample.zip\", \"r\")<br>\n",
    "a_file = unzipped_file.read(\"test.txt\")<br>\n",
    "print(a_file)"
   ]
  },
  {
   "cell_type": "markdown",
   "id": "48c7cda3",
   "metadata": {},
   "source": [
    ">__5. Create a programme that searches a folder tree for files with a certain file extension (such as .pdf or .jpg). Copy these files from whatever location they are in to a new folder.__"
   ]
  },
  {
   "cell_type": "code",
   "execution_count": null,
   "id": "29fbcfd1",
   "metadata": {},
   "outputs": [],
   "source": [
    "import glob, os, shutil  \n",
    "os.chdir(r'C:\\Directory_address') \n",
    "file_list=[]\n",
    "for file in glob.glob(\"*.pdf\"):\n",
    "    file_list.append(file)\n",
    "    \n",
    "for f in file_list:\n",
    "    shutil.copy(f, 'destination_folder')\n",
    "    "
   ]
  }
 ],
 "metadata": {
  "kernelspec": {
   "display_name": "Python 3",
   "language": "python",
   "name": "python3"
  },
  "language_info": {
   "codemirror_mode": {
    "name": "ipython",
    "version": 3
   },
   "file_extension": ".py",
   "mimetype": "text/x-python",
   "name": "python",
   "nbconvert_exporter": "python",
   "pygments_lexer": "ipython3",
   "version": "3.8.8"
  }
 },
 "nbformat": 4,
 "nbformat_minor": 5
}
